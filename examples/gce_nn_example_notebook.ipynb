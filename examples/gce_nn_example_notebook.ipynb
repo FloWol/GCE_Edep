{
 "nbformat": 4,
 "nbformat_minor": 0,
 "metadata": {
  "colab": {
   "name": "gce_nn_example_notebook.ipynb",
   "provenance": [],
   "collapsed_sections": []
  },
  "kernelspec": {
   "name": "python3",
   "language": "python",
   "display_name": "Python 3 (ipykernel)"
  },
  "language_info": {
   "name": "python"
  },
  "accelerator": "GPU"
 },
 "cells": [
  {
   "cell_type": "markdown",
   "metadata": {
    "id": "7KzCr5LXMjBO"
   },
   "source": [
    "## Tutorial notebook"
   ]
  },
  {
   "cell_type": "markdown",
   "source": [
    "This Jupyter notebook shows how to perform a basic analysis of γ-ray photon-count maps using the convolutional neural network-based method presented in [arXiv:2107.09070](http://arxiv.org/abs/2107.09070). \n",
    "\n",
    "In this example, the photon-count maps consist of **three** different emission components:    \n",
    "1. *Fermi* bubbles (Poissonian)\n",
    "2. Galactic Center Excess (point source-like, single population)\n",
    "3. Isotropic point sources (point source-like, two populations in each map).\n",
    "\n",
    "As discussed in the paper, for the point source-like templates the Poissonian case is included as the limit of ultra-faint point source emission (<< 1 photon expected per source) where the neural network can no longer distinguish point sources from Poissonian emission.\n",
    "\n",
    "To consider different scenarios (e.g. other templates, more training data, different network architectures, etc.), simply modify the sample parameter file ```GCE_NN/parameter_files/parameters.py``` accordingly.\n",
    "The available templates can be viewed in the function ```get_templates()``` in ```GCE/data_utils.py```.\n",
    "\n",
    "Also, if you don't have access to a GPU and just want to try out the code, it is recommended to reduce the number of training steps in the ```parameters.py```\n",
    "file in the folder ```parameter_files``` under \"Training settings\" from ```2500``` to e.g. ```p_train['num_steps'] = 500``` to reduce the\n",
    "training time. In this case, you will see a warning\n",
    "```\n",
    "\"WARNING:tensorflow:There are non-GPU devices in `tf.distribute.Strategy`...\n",
    "```"
   ],
   "metadata": {
    "collapsed": false,
    "pycharm": {
     "name": "#%% md\n"
    }
   }
  },
  {
   "cell_type": "code",
   "metadata": {
    "id": "VLj9BMSPMF9V",
    "colab": {
     "base_uri": "https://localhost:8080/"
    },
    "outputId": "da87b8d4-a5c5-4c2b-c51f-e493dc7dbe2f"
   },
   "source": [
    "import ray\n",
    "from matplotlib import pyplot as plt\n",
    "%matplotlib inline\n",
    "import numpy as np\n",
    "import healpy as hp\n",
    "import os"
   ],
   "execution_count": 1,
   "outputs": []
  },
  {
   "cell_type": "code",
   "metadata": {
    "colab": {
     "base_uri": "https://localhost:8080/"
    },
    "id": "KIx_p5alYlU5",
    "outputId": "18e4bbe0-da02-410c-89f8-6efb72116610"
   },
   "source": [
    "%pip list | grep gce-nn   # check if gce-nn module is there\n",
    "import GCE.gce"
   ],
   "execution_count": 2,
   "outputs": [
    {
     "name": "stdout",
     "output_type": "stream",
     "text": [
      "gce-nn                  0.0.1\r\n",
      "Note: you may need to restart the kernel to use updated packages.\n"
     ]
    },
    {
     "name": "stderr",
     "output_type": "stream",
     "text": [
      "2022-04-06 11:07:55.089467: W tensorflow/stream_executor/platform/default/dso_loader.cc:64] Could not load dynamic library 'libcudart.so.11.0'; dlerror: libcudart.so.11.0: cannot open shared object file: No such file or directory\n",
      "2022-04-06 11:07:55.089506: I tensorflow/stream_executor/cuda/cudart_stub.cc:29] Ignore above cudart dlerror if you do not have a GPU set up on your machine.\n"
     ]
    }
   ]
  },
  {
   "cell_type": "markdown",
   "metadata": {
    "id": "bE7XSJ7rOjgo"
   },
   "source": [
    "First, we need to **initialize** an analysis object."
   ]
  },
  {
   "cell_type": "code",
   "metadata": {
    "colab": {
     "base_uri": "https://localhost:8080/"
    },
    "id": "21lsX63-OjNU",
    "outputId": "8abe98d5-54b6-4426-f5f5-b121668b95c2"
   },
   "source": [
    "gce = GCE.gce.Analysis()"
   ],
   "execution_count": 3,
   "outputs": [
    {
     "name": "stdout",
     "output_type": "stream",
     "text": [
      "WARNING:tensorflow:There are non-GPU devices in `tf.distribute.Strategy`, not using nccl allreduce.\n",
      "WARNING:tensorflow:Collective ops is not configured at program startup. Some performance features may not be enabled.\n",
      "INFO:tensorflow:Using MirroredStrategy with devices ('/job:localhost/replica:0/task:0/device:CPU:0',)\n",
      "Number of devices: 1\n"
     ]
    },
    {
     "name": "stderr",
     "output_type": "stream",
     "text": [
      "2022-04-06 11:07:57.301701: I tensorflow/core/platform/cpu_feature_guard.cc:142] This TensorFlow binary is optimized with oneAPI Deep Neural Network Library (oneDNN) to use the following CPU instructions in performance-critical operations:  AVX2 FMA\n",
      "To enable them in other operations, rebuild TensorFlow with the appropriate compiler flags.\n",
      "2022-04-06 11:07:57.307684: I tensorflow/stream_executor/platform/default/dso_loader.cc:53] Successfully opened dynamic library libcuda.so.1\n",
      "2022-04-06 11:07:57.457696: I tensorflow/stream_executor/cuda/cuda_gpu_executor.cc:923] could not open file to read NUMA node: /sys/bus/pci/devices/0000:01:00.0/numa_node\n",
      "Your kernel may have been built without NUMA support.\n",
      "2022-04-06 11:07:57.457731: I tensorflow/core/common_runtime/gpu/gpu_device.cc:1733] Found device 0 with properties: \n",
      "pciBusID: 0000:01:00.0 name: NVIDIA GeForce GTX 1650 computeCapability: 7.5\n",
      "coreClock: 1.515GHz coreCount: 14 deviceMemorySize: 4.00GiB deviceMemoryBandwidth: 178.84GiB/s\n",
      "2022-04-06 11:07:57.457827: W tensorflow/stream_executor/platform/default/dso_loader.cc:64] Could not load dynamic library 'libcudart.so.11.0'; dlerror: libcudart.so.11.0: cannot open shared object file: No such file or directory\n",
      "2022-04-06 11:07:57.457908: W tensorflow/stream_executor/platform/default/dso_loader.cc:64] Could not load dynamic library 'libcublas.so.11'; dlerror: libcublas.so.11: cannot open shared object file: No such file or directory\n",
      "2022-04-06 11:07:57.457967: W tensorflow/stream_executor/platform/default/dso_loader.cc:64] Could not load dynamic library 'libcublasLt.so.11'; dlerror: libcublasLt.so.11: cannot open shared object file: No such file or directory\n",
      "2022-04-06 11:07:57.458021: W tensorflow/stream_executor/platform/default/dso_loader.cc:64] Could not load dynamic library 'libcufft.so.10'; dlerror: libcufft.so.10: cannot open shared object file: No such file or directory\n",
      "2022-04-06 11:07:57.458075: W tensorflow/stream_executor/platform/default/dso_loader.cc:64] Could not load dynamic library 'libcurand.so.10'; dlerror: libcurand.so.10: cannot open shared object file: No such file or directory\n",
      "2022-04-06 11:07:57.458127: W tensorflow/stream_executor/platform/default/dso_loader.cc:64] Could not load dynamic library 'libcusolver.so.11'; dlerror: libcusolver.so.11: cannot open shared object file: No such file or directory\n",
      "2022-04-06 11:07:57.458180: W tensorflow/stream_executor/platform/default/dso_loader.cc:64] Could not load dynamic library 'libcusparse.so.11'; dlerror: libcusparse.so.11: cannot open shared object file: No such file or directory\n",
      "2022-04-06 11:07:57.458232: W tensorflow/stream_executor/platform/default/dso_loader.cc:64] Could not load dynamic library 'libcudnn.so.8'; dlerror: libcudnn.so.8: cannot open shared object file: No such file or directory\n",
      "2022-04-06 11:07:57.458239: W tensorflow/core/common_runtime/gpu/gpu_device.cc:1766] Cannot dlopen some GPU libraries. Please make sure the missing libraries mentioned above are installed properly if you would like to use GPU. Follow the guide at https://www.tensorflow.org/install/gpu for how to download and setup the required libraries for your platform.\n",
      "Skipping registering GPU devices...\n",
      "2022-04-06 11:07:57.669348: I tensorflow/core/common_runtime/gpu/gpu_device.cc:1258] Device interconnect StreamExecutor with strength 1 edge matrix:\n",
      "2022-04-06 11:07:57.669369: I tensorflow/core/common_runtime/gpu/gpu_device.cc:1264]      0 \n",
      "2022-04-06 11:07:57.669393: I tensorflow/core/common_runtime/gpu/gpu_device.cc:1277] 0:   N \n",
      "2022-04-06 11:07:57.790391: I tensorflow/stream_executor/cuda/cuda_gpu_executor.cc:923] could not open file to read NUMA node: /sys/bus/pci/devices/0000:01:00.0/numa_node\n",
      "Your kernel may have been built without NUMA support.\n",
      "2022-04-06 11:07:57.790441: I tensorflow/core/common_runtime/gpu/gpu_device.cc:1733] Found device 0 with properties: \n",
      "pciBusID: 0000:01:00.0 name: NVIDIA GeForce GTX 1650 computeCapability: 7.5\n",
      "coreClock: 1.515GHz coreCount: 14 deviceMemorySize: 4.00GiB deviceMemoryBandwidth: 178.84GiB/s\n",
      "2022-04-06 11:07:57.790455: W tensorflow/core/common_runtime/gpu/gpu_device.cc:1766] Cannot dlopen some GPU libraries. Please make sure the missing libraries mentioned above are installed properly if you would like to use GPU. Follow the guide at https://www.tensorflow.org/install/gpu for how to download and setup the required libraries for your platform.\n",
      "Skipping registering GPU devices...\n",
      "2022-04-06 11:07:57.790875: I tensorflow/core/common_runtime/gpu/gpu_device.cc:1258] Device interconnect StreamExecutor with strength 1 edge matrix:\n",
      "2022-04-06 11:07:57.790886: I tensorflow/core/common_runtime/gpu/gpu_device.cc:1264]      \n"
     ]
    }
   ]
  },
  {
   "cell_type": "markdown",
   "metadata": {
    "id": "gfeV5afmO7pp"
   },
   "source": [
    "Now, let's **load the parameters** from the parameter file in the parameter_files folder."
   ]
  },
  {
   "cell_type": "code",
   "metadata": {
    "colab": {
     "base_uri": "https://localhost:8080/"
    },
    "id": "4hC6e-jZPA-m",
    "outputId": "267d80b0-684a-49fb-c272-787d7dff7d02"
   },
   "source": [
    "gce.load_params(\"../parameter_files/parameters.py\")"
   ],
   "execution_count": 4,
   "outputs": [
    {
     "name": "stdout",
     "output_type": "stream",
     "text": [
      "Loading parameters from '../parameter_files/parameters.py'...\n",
      "Loading parameters: ['comb' 'data' 'gen' 'mod' 'nn' 'plot' 'train' 'tt']\n"
     ]
    },
    {
     "name": "stderr",
     "output_type": "stream",
     "text": [
      "/home/flo/GCE_NN/GCE/gce.py:272: RuntimeWarning: invalid value encountered in log10\n",
      "  bin_edges_mapped = np.log10(bin_edges) if self.p.nn.hist[\"log_spaced_bins\"] else bin_edges\n"
     ]
    }
   ]
  },
  {
   "cell_type": "markdown",
   "metadata": {
    "id": "VOpAIsRrdfZB"
   },
   "source": [
    "We can take a look at the loaded parameters:"
   ]
  },
  {
   "cell_type": "code",
   "metadata": {
    "colab": {
     "base_uri": "https://localhost:8080/"
    },
    "id": "zfC6OAjPdknM",
    "outputId": "dea66d4d-f70e-431b-e3cc-b7ec974f19d6"
   },
   "source": [
    "gce.print_params()"
   ],
   "execution_count": 5,
   "outputs": [
    {
     "name": "stdout",
     "output_type": "stream",
     "text": [
      "{'comb': {'N_test': 2,\n",
      "          'N_val': 2,\n",
      "          'bins_counts_per_PS': array([-0.5,  2.5,  5.5,  8.5, 11.5, 14.5, 17.5, 20.5, 23.5, 26.5, 29.5,\n",
      "       32.5, 35.5, 38.5, 41.5, 44.5, 47.5, 50.5, 53.5, 56.5, 59.5,  inf]),\n",
      "          'bins_counts_per_pix': array([-0.5,  2.5,  5.5,  8.5, 11.5, 14.5, 17.5, 20.5, 23.5, 26.5, 29.5,\n",
      "       32.5, 35.5, 38.5, 41.5, 44.5, 47.5, 50.5, 53.5, 56.5, 59.5,  inf]),\n",
      "          'bins_dNdF': array([          -inf, 3.16227766e-13, 5.95662144e-13, 1.12201845e-12,\n",
      "       2.11348904e-12, 3.98107171e-12, 7.49894209e-12, 1.41253754e-11,\n",
      "       2.66072506e-11, 5.01187234e-11, 9.44060876e-11, 1.77827941e-10,\n",
      "       3.34965439e-10, 6.30957344e-10, 1.18850223e-09, 2.23872114e-09,\n",
      "       4.21696503e-09, 7.94328235e-09, 1.49623566e-08, 2.81838293e-08,\n",
      "       5.30884444e-08, 1.00000000e-07,            inf]),\n",
      "          'combine_without_PSF': False,\n",
      "          'data_name': 'Example_comb',\n",
      "          'do_counts_per_PS': False,\n",
      "          'do_counts_per_pix': False,\n",
      "          'do_dNdF': True,\n",
      "          'filename_base': 'Maps',\n",
      "          'hist_templates': ['gce_12_PS', 'iso_PS'],\n",
      "          'power_of_F_dNdF': 1},\n",
      " 'data': {'Ebins': array([ 0.1,  0.2,  0.3,  0.5,  0.8,  1.5, 10. ]),\n",
      "          'exposure': 'Fermi',\n",
      "          'inner_band': 2.0,\n",
      "          'leakage_delta': 0.75,\n",
      "          'mask_type': '3FGL',\n",
      "          'npix': 196608,\n",
      "          'nside': 128,\n",
      "          'outer_rad': 25.0,\n",
      "          'psf': True},\n",
      " 'gen': {'checkpoints_root': '../models/checkpoints',\n",
      "         'combined_maps_folder': '../data/Combined_maps/Example_comb_128',\n",
      "         'combined_maps_root': '../data/Combined_maps',\n",
      "         'data_root': '../data',\n",
      "         'fermi_folder': '../data/fermi_data_573w/fermi_data_128',\n",
      "         'fermi_root': '../data/fermi_data_573w',\n",
      "         'figures_root': '../models/figures',\n",
      "         'models_root': '../models',\n",
      "         'params_root': '../models/parameters',\n",
      "         'summaries_root': '../models/summaries',\n",
      "         'template_maps_folder': '../data/Template_maps/Example_128',\n",
      "         'template_maps_root': '../data/Template_maps'},\n",
      " 'mod': {'model_names': ['$\\\\it{Fermi}$ bubbles', 'GCE', 'isotropic PS'],\n",
      "         'model_names_P': ['$\\\\it{Fermi}$ bubbles'],\n",
      "         'model_names_PS': ['GCE', 'isotropic PS'],\n",
      "         'models': ['bub', 'gce_12_PS', 'iso_PS'],\n",
      "         'models_P': ['bub'],\n",
      "         'models_PS': ['gce_12_PS', 'iso_PS'],\n",
      "         'n_models': 3,\n",
      "         'n_models_P': 1,\n",
      "         'n_models_PS': 2},\n",
      " 'nn': {'NN_type': 'CNN',\n",
      "        'arch': {'F': [32, 64, 128, 256, 256, 256, 256],\n",
      "                 'K': [5, 5, 5, 5, 5, 5, 5],\n",
      "                 'M': [2048, 512],\n",
      "                 'activation': 'relu',\n",
      "                 'append_tot_counts': True,\n",
      "                 'batch_norm': [1, 1, 1, 1, 1, 1, 1, 0, 0],\n",
      "                 'conv': 'chebyshev5',\n",
      "                 'is_resnet': [False, False, False, False, False, False, False],\n",
      "                 'nsides': [128, 64, 32, 16, 8, 4, 2, 1],\n",
      "                 'pool': 'max'},\n",
      "        'checkpoints_folder': '../models/checkpoints/Example_comb_128/Training_1',\n",
      "        'checkpoints_folder_ff': '../models/checkpoints/Example_comb_128/Training_1/ff',\n",
      "        'checkpoints_folder_hist': '../models/checkpoints/Example_comb_128/Training_1/hist',\n",
      "        'cond': {'cond_on_training_data': <function <lambda> at 0x7f62d80ae550>,\n",
      "                 'cond_on_training_data_str': 'lambda x: x.sum() > 0',\n",
      "                 'cond_on_training_labels': None,\n",
      "                 'cond_on_training_labels_str': None,\n",
      "                 'prob_for_conditions': 1.0},\n",
      "        'ff': {'alea_covar': False,\n",
      "               'alea_var': True,\n",
      "               'last_act': 'softmax',\n",
      "               'output_keys': ['ff_mean', 'ff_logvar'],\n",
      "               'rel_counts': True,\n",
      "               'return_ff': True},\n",
      "        'figures_folder': '../models/figures/Example_comb_128/Training_1',\n",
      "        'hist': {'calculate_residual': True,\n",
      "                 'hist_template_inds': array([1, 2]),\n",
      "                 'hist_template_names': ['GCE', 'isotropic PS'],\n",
      "                 'hist_templates': ['gce_12_PS', 'iso_PS'],\n",
      "                 'last_act': 'normalized_softplus',\n",
      "                 'log_spaced_bins': True,\n",
      "                 'n_bins': 22,\n",
      "                 'nn_hist_bins': array([          -inf, 3.16227766e-13, 5.95662144e-13, 1.12201845e-12,\n",
      "       2.11348904e-12, 3.98107171e-12, 7.49894209e-12, 1.41253754e-11,\n",
      "       2.66072506e-11, 5.01187234e-11, 9.44060876e-11, 1.77827941e-10,\n",
      "       3.34965439e-10, 6.30957344e-10, 1.18850223e-09, 2.23872114e-09,\n",
      "       4.21696503e-09, 7.94328235e-09, 1.49623566e-08, 2.81838293e-08,\n",
      "       5.30884444e-08, 1.00000000e-07,            inf]),\n",
      "                 'nn_hist_centers': array([2.30409298e-13, 4.34010264e-13, 8.17523038e-13, 1.53992653e-12,\n",
      "       2.90068120e-12, 5.46386550e-12, 1.02920053e-11, 1.93865264e-11,\n",
      "       3.65174127e-11, 6.87859912e-11, 1.29568670e-10, 2.44061907e-10,\n",
      "       4.59726989e-10, 8.65964323e-10, 1.63117291e-09, 3.07255737e-09,\n",
      "       5.78761988e-09, 1.09018449e-08, 2.05352503e-08, 3.86812055e-08,\n",
      "       7.28618175e-08, 1.37246096e-07]),\n",
      "                 'nn_hist_widths': array([1.48347364e-13, 2.79434378e-13, 5.26356311e-13, 9.91470586e-13,\n",
      "       1.86758267e-12, 3.51787039e-12, 6.62643335e-12, 1.24818752e-11,\n",
      "       2.35114728e-11, 4.42873643e-11, 8.34218534e-11, 1.57137498e-10,\n",
      "       2.95991905e-10, 5.57544883e-10, 1.05021891e-09, 1.97824390e-09,\n",
      "       3.72631731e-09, 7.01907421e-09, 1.32214728e-08, 2.49046151e-08,\n",
      "       4.69115556e-08, 8.83649089e-08]),\n",
      "                 'nn_hist_widths_l': array([6.25288958e-14, 1.17782498e-13, 2.21860894e-13, 4.17908072e-13,\n",
      "       7.87192159e-13, 1.48279379e-12, 2.79306318e-12, 5.26115091e-12,\n",
      "       9.91016213e-12, 1.86672679e-11, 3.51625821e-11, 6.62339658e-11,\n",
      "       1.24761549e-10, 2.35006979e-10, 4.42670682e-10, 8.33836227e-10,\n",
      "       1.57065485e-09, 2.95856258e-09, 5.57289370e-09, 1.04973762e-08,\n",
      "       1.97733730e-08, 3.72460961e-08]),\n",
      "                 'nn_hist_widths_r': array([8.58184684e-14, 1.61651880e-13, 3.04495416e-13, 5.73562514e-13,\n",
      "       1.08039051e-12, 2.03507659e-12, 3.83337017e-12, 7.22072424e-12,\n",
      "       1.36013106e-11, 2.56200964e-11, 4.82592713e-11, 9.09035324e-11,\n",
      "       1.71230356e-10, 3.22537904e-10, 6.07548229e-10, 1.14440767e-09,\n",
      "       2.15566246e-09, 4.06051164e-09, 7.64857905e-09, 1.44072390e-08,\n",
      "       2.71381825e-08, 5.11188128e-08]),\n",
      "                 'output_keys': ['hist'],\n",
      "                 'rel_counts': True,\n",
      "                 'return_hist': True,\n",
      "                 'which_histogram': 'dNdF'},\n",
      "        'label_shape': [[3, 6], [22, 2]],\n",
      "        'output_keys': ['ff_mean', 'ff_logvar', 'hist'],\n",
      "        'params_folder': '../models/parameters/Example_comb_128/Training_1',\n",
      "        'remove_exp': True,\n",
      "        'requires_tau': True,\n",
      "        'run_name': 'Training_1',\n",
      "        'summaries_folder': '../models/summaries/Example_comb_128/Training_1',\n",
      "        'summaries_folder_ff': '../models/summaries/Example_comb_128/Training_1/ff',\n",
      "        'summaries_folder_hist': '../models/summaries/Example_comb_128/Training_1/hist'},\n",
      " 'plot': {'colors': ['#37c837', 'deepskyblue', 'k'],\n",
      "          'colors_P': ['#37c837'],\n",
      "          'colors_PS': ['deepskyblue', 'k']},\n",
      " 'train': {'batch_size': 16,\n",
      "           'batch_size_val': 16,\n",
      "           'eval_frequency': 50,\n",
      "           'ff_loss': 'l2',\n",
      "           'ff_train_metrics': ['l2', 'l1', 'x-ent'],\n",
      "           'hist_loss': 'EMPL',\n",
      "           'hist_pinball_smoothing': 0.001,\n",
      "           'hist_train_metrics': ['l2', 'l1', 'x-ent'],\n",
      "           'num_steps': 2500,\n",
      "           'optimizer': 'Adam',\n",
      "           'optimizer_dict': {'beta_1': 0.9, 'beta_2': 0.999, 'epsilon': 1e-08},\n",
      "           'prefetch_batch_buffer': 5,\n",
      "           'prefetch_batch_buffer_val': 5,\n",
      "           'scheduler': 'ExponentialDecay',\n",
      "           'scheduler_dict': {'decay_rate': 0.99985,\n",
      "                              'decay_steps': 1,\n",
      "                              'initial_learning_rate': 0.0005,\n",
      "                              'staircase': False}},\n",
      " 'tt': {'add_two_temps_PS': ['iso_PS'],\n",
      "        'data_name': 'Example',\n",
      "        'filename_base': 'Maps',\n",
      "        'n_chunk': 100,\n",
      "        'n_sim_per_chunk': 50,\n",
      "        'poisson_A_is_log': False,\n",
      "        'priors': {'bub': array([0., 2.]),\n",
      "                   'gce_12_PS': {'enforce_upper_flux': True,\n",
      "                                 'flux_lims': [0, 1.4e-08],\n",
      "                                 'flux_log': False,\n",
      "                                 'mean_exp': [-12, -9],\n",
      "                                 'skew_std': 3.0,\n",
      "                                 'var_exp': 0.25},\n",
      "                   'iso_PS': {'enforce_upper_flux': True,\n",
      "                              'flux_lims': [0, 1.4e-08],\n",
      "                              'flux_log': False,\n",
      "                              'mean_exp': [-12, -9],\n",
      "                              'skew_std': 3.0,\n",
      "                              'var_exp': 0.25}}}}\n"
     ]
    }
   ]
  },
  {
   "cell_type": "markdown",
   "metadata": {
    "id": "Z_LGGzbjeKZH"
   },
   "source": [
    "The parameters are stored in gce.p and can also be accessed group-wise. For example, the Poissonian (P) and point-source (PS) templates used in this analysis can be viewed with"
   ]
  },
  {
   "cell_type": "code",
   "metadata": {
    "colab": {
     "base_uri": "https://localhost:8080/"
    },
    "id": "LZeVTwPveJjS",
    "outputId": "3f467553-faa5-4cb5-b074-a68206dce210"
   },
   "source": [
    "gce.p.mod"
   ],
   "execution_count": 6,
   "outputs": [
    {
     "data": {
      "text/plain": "{'models_P': ['bub'],\n 'models_PS': ['gce_12_PS', 'iso_PS'],\n 'model_names_P': ['$\\\\it{Fermi}$ bubbles'],\n 'model_names_PS': ['GCE', 'isotropic PS'],\n 'models': ['bub', 'gce_12_PS', 'iso_PS'],\n 'model_names': ['$\\\\it{Fermi}$ bubbles', 'GCE', 'isotropic PS'],\n 'n_models_P': 1,\n 'n_models_PS': 2,\n 'n_models': 3}"
     },
     "execution_count": 6,
     "metadata": {},
     "output_type": "execute_result"
    }
   ]
  },
  {
   "cell_type": "markdown",
   "metadata": {
    "id": "iDqev5FQemIK"
   },
   "source": [
    "and the data-related settings (such as the exposure map, the mask for the region of interest, as well as whether the *Fermi* point-spread function at 2 GeV shall be applied) are stored in"
   ]
  },
  {
   "cell_type": "code",
   "metadata": {
    "colab": {
     "base_uri": "https://localhost:8080/"
    },
    "id": "9deORIGwe3G8",
    "outputId": "1c8a99fd-1796-43cc-dd12-2cff027c928b"
   },
   "source": [
    "gce.p.data"
   ],
   "execution_count": 7,
   "outputs": [
    {
     "data": {
      "text/plain": "{'outer_rad': 25.0,\n 'inner_band': 2.0,\n 'leakage_delta': 0.75,\n 'mask_type': '3FGL',\n 'nside': 128,\n 'exposure': 'Fermi',\n 'psf': True,\n 'Ebins': array([ 0.1,  0.2,  0.3,  0.5,  0.8,  1.5, 10. ]),\n 'npix': 196608}"
     },
     "execution_count": 7,
     "metadata": {},
     "output_type": "execute_result"
    }
   ]
  },
  {
   "cell_type": "markdown",
   "metadata": {
    "id": "rRIVxF75dQJh"
   },
   "source": [
    "Now, let's generate some simulated Monte Carlo photon-count maps for each of the templates. The relevant parameters are stored in the field \"tt\" (training and testing data) - most importantly the priors, as well as the number of maps given by \"n_chunk\" (each chunk will be saved in a single file) times the number of simulations per chunk."
   ]
  },
  {
   "cell_type": "code",
   "metadata": {
    "colab": {
     "base_uri": "https://localhost:8080/"
    },
    "id": "j1wpn081dMHD",
    "outputId": "bfbdd9c5-1090-4e80-b80b-80d011fbcd87"
   },
   "source": [
    "gce.p.tt"
   ],
   "execution_count": 8,
   "outputs": [
    {
     "data": {
      "text/plain": "{'data_name': 'Example',\n 'filename_base': 'Maps',\n 'poisson_A_is_log': False,\n 'n_chunk': 100,\n 'n_sim_per_chunk': 50,\n 'add_two_temps_PS': ['iso_PS'],\n 'priors': {'bub': array([0., 2.]),\n  'gce_12_PS': {'mean_exp': [-12, -9],\n   'var_exp': 0.25,\n   'skew_std': 3.0,\n   'flux_lims': [0, 1.4e-08],\n   'flux_log': False,\n   'enforce_upper_flux': True},\n  'iso_PS': {'mean_exp': [-12, -9],\n   'var_exp': 0.25,\n   'skew_std': 3.0,\n   'flux_lims': [0, 1.4e-08],\n   'flux_log': False,\n   'enforce_upper_flux': True}}}"
     },
     "execution_count": 8,
     "metadata": {},
     "output_type": "execute_result"
    }
   ]
  },
  {
   "cell_type": "markdown",
   "metadata": {
    "id": "6esqIeBWhaDe"
   },
   "source": [
    "To **generate** the template maps, we can simply run"
   ]
  },
  {
   "cell_type": "markdown",
   "source": [],
   "metadata": {
    "collapsed": false
   }
  },
  {
   "cell_type": "code",
   "execution_count": 9,
   "outputs": [
    {
     "name": "stdout",
     "output_type": "stream",
     "text": [
      "Job ID: 0 Random Seed: 3062671110\n",
      "Starting map generation for 'Example'.\n",
      "Number of chunks: 100, number of simulations per chunk: 50\n",
      " -> 5000 maps per model.\n",
      " Twice as many maps will be created for ['iso_PS']\n",
      "Starting with Poissonian model 'bub'\n",
      "   Writing settings file...\n",
      "Ray: running on 4 CPUs.\n",
      "Starting with point-source model 'gce_12_PS'\n",
      "  Starting with chunk 0\n"
     ]
    },
    {
     "name": "stderr",
     "output_type": "stream",
     "text": [
      "/home/flo/GCE_NN/GCE/data_generation.py:280: UserWarning: Template sum is not exactly 1, but 0.9999999999999998!\n",
      "  warnings.warn(\"Template sum is not exactly 1, but {:}!\".format(t_final.sum()))\n"
     ]
    },
    {
     "name": "stdout",
     "output_type": "stream",
     "text": [
      "   Writing settings file...\n",
      "  Starting with chunk 1\n",
      "  Starting with chunk 2\n",
      "  Starting with chunk 3\n",
      "  Starting with chunk 4\n",
      "  Starting with chunk 5\n",
      "  Starting with chunk 6\n",
      "  Starting with chunk 7\n",
      "  Starting with chunk 8\n",
      "  Starting with chunk 9\n",
      "  Starting with chunk 10\n",
      "  Starting with chunk 11\n",
      "  Starting with chunk 12\n",
      "  Starting with chunk 13\n",
      "  Starting with chunk 14\n",
      "  Starting with chunk 15\n",
      "  Starting with chunk 16\n",
      "  Starting with chunk 17\n",
      "  Starting with chunk 18\n",
      "  Starting with chunk 19\n",
      "  Starting with chunk 20\n",
      "  Starting with chunk 21\n",
      "  Starting with chunk 22\n",
      "  Starting with chunk 23\n",
      "  Starting with chunk 24\n",
      "  Starting with chunk 25\n",
      "  Starting with chunk 26\n",
      "  Starting with chunk 27\n",
      "  Starting with chunk 28\n",
      "  Starting with chunk 29\n",
      "  Starting with chunk 30\n",
      "  Starting with chunk 31\n",
      "  Starting with chunk 32\n",
      "  Starting with chunk 33\n",
      "  Starting with chunk 34\n",
      "  Starting with chunk 35\n",
      "  Starting with chunk 36\n",
      "  Starting with chunk 37\n",
      "  Starting with chunk 38\n",
      "  Starting with chunk 39\n",
      "  Starting with chunk 40\n",
      "  Starting with chunk 41\n",
      "  Starting with chunk 42\n",
      "  Starting with chunk 43\n",
      "  Starting with chunk 44\n",
      "\u001B[2m\u001B[36m(create_simulated_map pid=8109)\u001B[0m \n",
      "  Starting with chunk 45\n",
      "  Starting with chunk 46\n",
      "  Starting with chunk 47\n",
      "  Starting with chunk 48\n",
      "  Starting with chunk 49\n",
      "  Starting with chunk 50\n",
      "  Starting with chunk 51\n",
      "  Starting with chunk 52\n",
      "  Starting with chunk 53\n",
      "  Starting with chunk 54\n",
      "  Starting with chunk 55\n",
      "  Starting with chunk 56\n",
      "  Starting with chunk 57\n",
      "  Starting with chunk 58\n",
      "  Starting with chunk 59\n",
      "  Starting with chunk 60\n",
      "  Starting with chunk 61\n",
      "  Starting with chunk 62\n",
      "  Starting with chunk 63\n",
      "  Starting with chunk 64\n",
      "  Starting with chunk 65\n",
      "  Starting with chunk 66\n",
      "  Starting with chunk 67\n",
      "  Starting with chunk 68\n",
      "  Starting with chunk 69\n",
      "  Starting with chunk 70\n",
      "  Starting with chunk 71\n",
      "  Starting with chunk 72\n",
      "  Starting with chunk 73\n",
      "  Starting with chunk 74\n",
      "  Starting with chunk 75\n",
      "  Starting with chunk 76\n",
      "  Starting with chunk 77\n",
      "  Starting with chunk 78\n",
      "  Starting with chunk 79\n",
      "  Starting with chunk 80\n",
      "  Starting with chunk 81\n",
      "  Starting with chunk 82\n",
      "  Starting with chunk 83\n",
      "  Starting with chunk 84\n",
      "  Starting with chunk 85\n",
      "  Starting with chunk 86\n",
      "  Starting with chunk 87\n",
      "  Starting with chunk 88\n",
      "  Starting with chunk 89\n",
      "  Starting with chunk 90\n",
      "  Starting with chunk 91\n",
      "  Starting with chunk 92\n",
      "  Starting with chunk 93\n",
      "  Starting with chunk 94\n",
      "  Starting with chunk 95\n",
      "  Starting with chunk 96\n",
      "  Starting with chunk 97\n",
      "  Starting with chunk 98\n",
      "  Starting with chunk 99\n",
      "Starting with point-source model 'iso_PS'\n",
      "  Starting with chunk 0\n"
     ]
    },
    {
     "name": "stderr",
     "output_type": "stream",
     "text": [
      "/home/flo/GCE_NN/GCE/data_generation.py:280: UserWarning: Template sum is not exactly 1, but 0.9999999999999998!\n",
      "  warnings.warn(\"Template sum is not exactly 1, but {:}!\".format(t_final.sum()))\n"
     ]
    },
    {
     "name": "stdout",
     "output_type": "stream",
     "text": [
      "   Writing settings file...\n",
      "  Starting with chunk 1\n",
      "  Starting with chunk 2\n",
      "  Starting with chunk 3\n",
      "  Starting with chunk 4\n",
      "  Starting with chunk 5\n",
      "  Starting with chunk 6\n",
      "  Starting with chunk 7\n",
      "  Starting with chunk 8\n",
      "  Starting with chunk 9\n",
      "  Starting with chunk 10\n",
      "  Starting with chunk 11\n",
      "  Starting with chunk 12\n",
      "  Starting with chunk 13\n",
      "  Starting with chunk 14\n",
      "  Starting with chunk 15\n",
      "  Starting with chunk 16\n",
      "  Starting with chunk 17\n",
      "  Starting with chunk 18\n",
      "  Starting with chunk 19\n",
      "  Starting with chunk 20\n",
      "  Starting with chunk 21\n",
      "  Starting with chunk 22\n",
      "  Starting with chunk 23\n",
      "  Starting with chunk 24\n",
      "  Starting with chunk 25\n",
      "  Starting with chunk 26\n",
      "  Starting with chunk 27\n",
      "  Starting with chunk 28\n",
      "  Starting with chunk 29\n",
      "  Starting with chunk 30\n",
      "  Starting with chunk 31\n",
      "  Starting with chunk 32\n",
      "  Starting with chunk 33\n",
      "  Starting with chunk 34\n",
      "  Starting with chunk 35\n",
      "  Starting with chunk 36\n",
      "  Starting with chunk 37\n",
      "  Starting with chunk 38\n",
      "  Starting with chunk 39\n",
      "  Starting with chunk 40\n",
      "  Starting with chunk 41\n",
      "  Starting with chunk 42\n",
      "  Starting with chunk 43\n",
      "  Starting with chunk 44\n",
      "  Starting with chunk 45\n",
      "  Starting with chunk 46\n",
      "  Starting with chunk 47\n",
      "  Starting with chunk 48\n",
      "  Starting with chunk 49\n",
      "  Starting with chunk 50\n",
      "  Starting with chunk 51\n",
      "  Starting with chunk 52\n",
      "  Starting with chunk 53\n",
      "  Starting with chunk 54\n",
      "  Starting with chunk 55\n",
      "  Starting with chunk 56\n",
      "  Starting with chunk 57\n",
      "  Starting with chunk 58\n",
      "  Starting with chunk 59\n",
      "  Starting with chunk 60\n",
      "  Starting with chunk 61\n",
      "  Starting with chunk 62\n",
      "  Starting with chunk 63\n",
      "  Starting with chunk 64\n",
      "  Starting with chunk 65\n",
      "  Starting with chunk 66\n",
      "  Starting with chunk 67\n",
      "  Starting with chunk 68\n",
      "  Starting with chunk 69\n",
      "  Starting with chunk 70\n",
      "  Starting with chunk 71\n",
      "  Starting with chunk 72\n",
      "  Starting with chunk 73\n",
      "  Starting with chunk 74\n",
      "  Starting with chunk 75\n",
      "  Starting with chunk 76\n",
      "  Starting with chunk 77\n",
      "  Starting with chunk 78\n",
      "  Starting with chunk 79\n",
      "  Starting with chunk 80\n",
      "  Starting with chunk 81\n",
      "  Starting with chunk 82\n",
      "  Starting with chunk 83\n",
      "  Starting with chunk 84\n",
      "  Starting with chunk 85\n",
      "  Starting with chunk 86\n",
      "  Starting with chunk 87\n",
      "  Starting with chunk 88\n",
      "  Starting with chunk 89\n",
      "  Starting with chunk 90\n",
      "  Starting with chunk 91\n",
      "  Starting with chunk 92\n",
      "  Starting with chunk 93\n",
      "  Starting with chunk 94\n",
      "  Starting with chunk 95\n",
      "  Starting with chunk 96\n",
      "  Starting with chunk 97\n",
      "  Starting with chunk 98\n",
      "  Starting with chunk 99\n",
      "  Starting with chunk 100\n",
      "  Starting with chunk 101\n",
      "  Starting with chunk 102\n",
      "  Starting with chunk 103\n",
      "  Starting with chunk 104\n",
      "  Starting with chunk 105\n",
      "  Starting with chunk 106\n",
      "  Starting with chunk 107\n",
      "  Starting with chunk 108\n",
      "  Starting with chunk 109\n",
      "  Starting with chunk 110\n",
      "  Starting with chunk 111\n",
      "  Starting with chunk 112\n",
      "  Starting with chunk 113\n",
      "  Starting with chunk 114\n",
      "  Starting with chunk 115\n",
      "  Starting with chunk 116\n",
      "  Starting with chunk 117\n",
      "  Starting with chunk 118\n",
      "  Starting with chunk 119\n",
      "  Starting with chunk 120\n",
      "  Starting with chunk 121\n",
      "  Starting with chunk 122\n",
      "  Starting with chunk 123\n",
      "  Starting with chunk 124\n",
      "  Starting with chunk 125\n",
      "  Starting with chunk 126\n",
      "  Starting with chunk 127\n",
      "  Starting with chunk 128\n",
      "  Starting with chunk 129\n",
      "  Starting with chunk 130\n",
      "  Starting with chunk 131\n",
      "  Starting with chunk 132\n",
      "  Starting with chunk 133\n",
      "  Starting with chunk 134\n",
      "  Starting with chunk 135\n",
      "  Starting with chunk 136\n",
      "  Starting with chunk 137\n",
      "  Starting with chunk 138\n",
      "  Starting with chunk 139\n",
      "  Starting with chunk 140\n",
      "  Starting with chunk 141\n",
      "  Starting with chunk 142\n",
      "  Starting with chunk 143\n",
      "  Starting with chunk 144\n",
      "  Starting with chunk 145\n",
      "  Starting with chunk 146\n",
      "  Starting with chunk 147\n",
      "  Starting with chunk 148\n",
      "  Starting with chunk 149\n",
      "  Starting with chunk 150\n",
      "  Starting with chunk 151\n",
      "  Starting with chunk 152\n",
      "  Starting with chunk 153\n",
      "  Starting with chunk 154\n",
      "  Starting with chunk 155\n",
      "  Starting with chunk 156\n",
      "  Starting with chunk 157\n",
      "  Starting with chunk 158\n",
      "  Starting with chunk 159\n",
      "  Starting with chunk 160\n",
      "  Starting with chunk 161\n",
      "  Starting with chunk 162\n",
      "  Starting with chunk 163\n",
      "  Starting with chunk 164\n",
      "  Starting with chunk 165\n",
      "  Starting with chunk 166\n",
      "  Starting with chunk 167\n",
      "  Starting with chunk 168\n",
      "  Starting with chunk 169\n",
      "  Starting with chunk 170\n",
      "  Starting with chunk 171\n",
      "  Starting with chunk 172\n",
      "  Starting with chunk 173\n",
      "  Starting with chunk 174\n",
      "  Starting with chunk 175\n",
      "  Starting with chunk 176\n",
      "  Starting with chunk 177\n",
      "  Starting with chunk 178\n",
      "  Starting with chunk 179\n",
      "  Starting with chunk 180\n",
      "  Starting with chunk 181\n",
      "  Starting with chunk 182\n",
      "  Starting with chunk 183\n",
      "  Starting with chunk 184\n",
      "  Starting with chunk 185\n",
      "  Starting with chunk 186\n",
      "  Starting with chunk 187\n",
      "  Starting with chunk 188\n",
      "  Starting with chunk 189\n",
      "  Starting with chunk 190\n",
      "  Starting with chunk 191\n",
      "  Starting with chunk 192\n",
      "  Starting with chunk 193\n",
      "  Starting with chunk 194\n",
      "  Starting with chunk 195\n",
      "  Starting with chunk 196\n",
      "  Starting with chunk 197\n",
      "  Starting with chunk 198\n",
      "  Starting with chunk 199\n",
      "================================================================================\n",
      "Done! Computation took 455.4959325790405 seconds.\n",
      "================================================================================\n"
     ]
    }
   ],
   "source": [
    "# Ray settings (for parallelized data generation)\n",
    "import ray\n",
    "ray.shutdown() #delete old rays if there are any\n",
    "# ray_settings = {\"num_cpus\": 4, \"object_store_memory\": 2000000000}\n",
    "ray_settings = {\"num_cpus\": 4}  # select the number of CPUs here\n",
    "gce.generate_template_maps(ray_settings, n_example_plots=5, job_id=0)"
   ],
   "metadata": {
    "collapsed": false,
    "pycharm": {
     "name": "#%%\n"
    }
   }
  },
  {
   "cell_type": "code",
   "execution_count": 10,
   "outputs": [
    {
     "name": "stdout",
     "output_type": "stream",
     "text": [
      "(50, 7749, 6)\n",
      "dict_keys(['data', 'info'])\n"
     ]
    }
   ],
   "source": [
    "import pickle\n",
    "#check the shape\n",
    "maps=open('/home/flo/GCE_NN/data/Template_maps/Example_128/bub/Maps_0_3.pickle','rb')\n",
    "test=pickle.load(maps)\n",
    "type(test)\n",
    "data=test[\"data\"]\n",
    "type(data)\n",
    "print(data.shape)\n",
    "print(test.keys())"
   ],
   "metadata": {
    "collapsed": false,
    "pycharm": {
     "name": "#%%\n"
    }
   }
  },
  {
   "cell_type": "markdown",
   "metadata": {
    "id": "JgSUGOmXJ4Dl"
   },
   "source": [
    "Some example maps (whose number is determined by ```n_example_plots``` above) for each template can be viewed in the folder ```GCE_NN/data/Template_maps/Example_128```."
   ]
  },
  {
   "cell_type": "code",
   "execution_count": 10,
   "outputs": [],
   "source": [],
   "metadata": {
    "collapsed": false,
    "pycharm": {
     "name": "#%%\n"
    }
   }
  },
  {
   "cell_type": "markdown",
   "metadata": {
    "id": "IZy9C4Cez6Pu"
   },
   "source": [
    "The next step is to **combine** (i.e. sum up) the individual template maps to obtain the final training, validation, and testing maps. Internally, this is done in two steps: 1) the filenames of the template maps for each of these three subsets are stored in a file, and 2) the template maps are combined and saved."
   ]
  },
  {
   "cell_type": "code",
   "metadata": {
    "id": "jv3KUnRmzynd",
    "colab": {
     "base_uri": "https://localhost:8080/"
    },
    "outputId": "98d2f596-716e-4eb6-ea53-9cc425d3ee53"
   },
   "source": [
    "gce.combine_template_maps(save_filenames=True, do_combine=True)"
   ],
   "execution_count": 11,
   "outputs": [
    {
     "name": "stdout",
     "output_type": "stream",
     "text": [
      "Filenames for training saved.\n",
      "Filenames for validation saved.\n",
      "Filenames for testing saved.\n",
      "Settings file saved.\n",
      "EXITING.\n",
      "Combined settings file written.\n",
      "================================================================================\n",
      "Done! Computation took 1.3e+01 seconds.\n",
      "================================================================================\n"
     ]
    }
   ]
  },
  {
   "cell_type": "code",
   "execution_count": 11,
   "outputs": [],
   "source": [],
   "metadata": {
    "collapsed": false,
    "pycharm": {
     "name": "#%%\n"
    }
   }
  },
  {
   "cell_type": "code",
   "execution_count": 12,
   "outputs": [
    {
     "name": "stdout",
     "output_type": "stream",
     "text": [
      "(50, 7749, 6)\n",
      "dict_keys(['data', 'flux_fraction', 'info', 'hists'])\n"
     ]
    }
   ],
   "source": [
    "import pickle\n",
    "#check the shape\n",
    "maps=open('/home/flo/GCE_NN/data/Combined_maps/Example_comb_128/Train/Maps_07_train.pickle','rb')\n",
    "test=pickle.load(maps)\n",
    "type(test)\n",
    "data=test[\"data\"]\n",
    "type(data)\n",
    "print(data.shape)\n",
    "print(test.keys())"
   ],
   "metadata": {
    "collapsed": false,
    "pycharm": {
     "name": "#%%\n"
    }
   }
  },
  {
   "cell_type": "code",
   "execution_count": 13,
   "outputs": [
    {
     "data": {
      "text/plain": "(50, 6)"
     },
     "execution_count": 13,
     "metadata": {},
     "output_type": "execute_result"
    }
   ],
   "source": [
    "(test[\"flux_fraction\"]['iso_PS']).shape"
   ],
   "metadata": {
    "collapsed": false,
    "pycharm": {
     "name": "#%%\n"
    }
   }
  },
  {
   "cell_type": "markdown",
   "source": [],
   "metadata": {
    "collapsed": false
   }
  },
  {
   "cell_type": "markdown",
   "metadata": {
    "id": "UfprvUAl2uKc"
   },
   "source": [
    "NOTE: if data has already been generated, the corresponding parameters can be directly loaded from the template maps / combined maps folders, e.g.\n",
    "\n",
    "```\n",
    "gce.load_params(\"../data/Template_maps/Test_128\")\n",
    "gce.load_params(\"../data/Combined_maps/Test_comb_128\")\n",
    "```\n"
   ]
  },
  {
   "cell_type": "markdown",
   "metadata": {
    "id": "BFUd4HLV1uUV"
   },
   "source": [
    "Next, we need to build the **data processing pipeline** that will feed the combined photon-count maps to the neural network."
   ]
  },
  {
   "cell_type": "code",
   "metadata": {
    "colab": {
     "base_uri": "https://localhost:8080/"
    },
    "id": "oY_3_oH71mmS",
    "outputId": "18a863f3-c50a-4a2d-fa22-500b56d9fbd4"
   },
   "source": [
    "gce.build_pipeline()"
   ],
   "execution_count": 14,
   "outputs": [
    {
     "name": "stdout",
     "output_type": "stream",
     "text": [
      "(7749, 1)\n",
      "(7749, 1)\n",
      "(7749, 1)\n",
      "Input pipeline successfully built.\n"
     ]
    },
    {
     "name": "stderr",
     "output_type": "stream",
     "text": [
      "2022-04-06 11:15:46.889733: I tensorflow/compiler/mlir/mlir_graph_optimization_pass.cc:176] None of the MLIR Optimization Passes are enabled (registered 2)\n",
      "2022-04-06 11:15:46.896184: I tensorflow/core/platform/profile_utils/cpu_utils.cc:114] CPU Frequency: 2496005000 Hz\n"
     ]
    }
   ]
  },
  {
   "cell_type": "markdown",
   "metadata": {
    "id": "0t-F3xFZMb3V"
   },
   "source": [
    "We can use the method ```get_samples()``` to get photon-count maps and their associated labels from the datasets **train** (used for training), **val** (used as an independent validation dataset during training), and **test** (used for testing once the training is finished) "
   ]
  },
  {
   "cell_type": "code",
   "execution_count": 14,
   "outputs": [],
   "source": [],
   "metadata": {
    "collapsed": false,
    "pycharm": {
     "name": "#%%\n"
    }
   }
  },
  {
   "cell_type": "code",
   "metadata": {
    "colab": {
     "base_uri": "https://localhost:8080/"
    },
    "id": "NCq1omWZ2_5y",
    "outputId": "6cded615-f41b-4fb9-ec81-624b587e051f"
   },
   "source": [
    "\n",
    "samples = gce.datasets[\"test\"].get_samples(1)\n",
    "data, labels = samples[\"data\"], samples[\"label\"]  # samples contains data and labels (flux fractions & SCD histograms)\n",
    "print(\"Shapes:\")\n",
    "print(\"  Flux fractions\", labels[0].shape)  # n_samples x n_templates\n",
    "print(\"  SCD histograms\", labels[1].shape)  # n_samples x n_bins x n_PS_templates"
   ],
   "execution_count": 15,
   "outputs": [
    {
     "name": "stdout",
     "output_type": "stream",
     "text": [
      "Shapes:\n",
      "  Flux fractions (1, 3, 6)\n",
      "  SCD histograms (1, 22, 2)\n"
     ]
    }
   ]
  },
  {
   "cell_type": "markdown",
   "metadata": {
    "id": "JtAvpwmg2FCs"
   },
   "source": [
    "Let's take a look at a combined map. The maps are compressed and only contain the pixels that lie within the ROI - the method ```decompress()``` returns the full-sky map that can be fed to the healpy functions."
   ]
  },
  {
   "cell_type": "markdown",
   "metadata": {
    "id": "suiTYvwM32ll"
   },
   "source": [
    "We will plot \n",
    "1. the **photon-count map**, \n",
    "2. the rescaled version in **'flux' space** as shown to the neural network (divided by exposure correction), and \n",
    "3. the *Fermi* **exposure correction**."
   ]
  },
  {
   "cell_type": "code",
   "execution_count": 15,
   "outputs": [],
   "source": [
    "\n"
   ],
   "metadata": {
    "collapsed": false,
    "pycharm": {
     "name": "#%%\n"
    }
   }
  },
  {
   "cell_type": "code",
   "execution_count": 16,
   "outputs": [
    {
     "data": {
      "text/plain": "<Figure size 1800x360 with 38 Axes>",
      "image/png": "[encoded data removed]"
     },
     "metadata": {},
     "output_type": "display_data"
    },
    {
     "data": {
      "text/plain": "<Figure size 612x388.8 with 2 Axes>",
      "image/png": "[encoded data removed]"
     },
     "metadata": {},
     "output_type": "display_data"
    }
   ],
   "source": [
    "# NOTE: the maps are stored in NEST format\n",
    "map_to_plot = 0 #index of which map is plotted\n",
    "r = gce.p.data[\"outer_rad\"] + 1\n",
    "fig, ax= plt.subplots(2,7,figsize = (25,5))\n",
    "\n",
    "subplot=1\n",
    "[axi.set_axis_off() for axi in ax.ravel()]\n",
    "plt.tight_layout()\n",
    "for Ebin in range(0,6):\n",
    "\n",
    "    hp.cartview(gce.decompress(data[map_to_plot,:,Ebin] * gce.template_dict[\"rescale_compressed\"]), nest=True,\n",
    "                 lonra=[-r, r], latra=[-r, r], sub=(2,7,subplot), title='Counts Bin ' + str(Ebin))\n",
    "\n",
    "    hp.cartview(gce.decompress(data[map_to_plot,:,Ebin]), nest=True,\n",
    "                 lonra=[-r, r], latra=[-r, r], sub=(2,7,7+subplot), title='Flux Bin ' + str(Ebin))\n",
    "    subplot+=1\n",
    "\n",
    "plt.show()\n",
    "\n",
    "\n",
    "hp.cartview(gce.decompress(gce.template_dict[\"rescale_compressed\"], fill_value=np.nan), nest=True,\n",
    "                title=\"Fermi exposure correction\", lonra=[-r, r], latra=[-r, r])\n",
    "plt.show()"
   ],
   "metadata": {
    "collapsed": false,
    "pycharm": {
     "name": "#%%\n"
    }
   }
  },
  {
   "cell_type": "markdown",
   "metadata": {
    "id": "sZdi-sqRRkOS"
   },
   "source": [
    "\n",
    "Let's also plot the real *Fermi* map in our region of interest. Of course, it looks quite different from our simulated maps because we only included the *Fermi* bubbles, the GCE, and isotropic point sources in this example (so we are completely ignoring the diffuse Galactic foregrounds, which are responsible for the majority of photon counts)."
   ]
  },
  {
   "cell_type": "code",
   "metadata": {
    "colab": {
     "base_uri": "https://localhost:8080/",
     "height": 375
    },
    "id": "xQb4l2YTQVy1",
    "outputId": "49da64e5-eb55-4b7a-d7ef-a6e10778a3f6"
   },
   "source": [
    "fermi_counts = gce.datasets[\"test\"].get_fermi_counts()\n",
    "hp.cartview(gce.decompress(fermi_counts * gce.generators[\"test\"].settings_dict[\"rescale_compressed\"]), nest=True,\n",
    "            title=\"Fermi data: Count space\", max=100, lonra=[-r, r], latra=[-r, r])\n",
    "# hp.cartview(gce.decompress(fermi_counts), nest=True, title=\"Fermi data: Flux space\", max=100)\n",
    "plt.show()"
   ],
   "execution_count": 17,
   "outputs": [
    {
     "data": {
      "text/plain": "<Figure size 612x388.8 with 2 Axes>",
      "image/png": "[encoded data removed]"
     },
     "metadata": {},
     "output_type": "display_data"
    }
   ]
  },
  {
   "cell_type": "markdown",
   "metadata": {
    "id": "XSlNFiUVT7m7"
   },
   "source": [
    "Now, it's time to **build** our neural network:\n"
   ]
  },
  {
   "cell_type": "code",
   "execution_count": 18,
   "outputs": [
    {
     "name": "stdout",
     "output_type": "stream",
     "text": [
      "(7749, 6)\n",
      "KerasTensor(type_spec=TensorSpec(shape=(None, 7749, 6), dtype=tf.float32, name='input_1'), name='input_1', description=\"created by layer 'input_1'\")\n",
      "(None, 7749, 6)\n",
      "Input shape = 3\n",
      "first channel\n",
      "KerasTensor(type_spec=TensorSpec(shape=(None, 7749, 6), dtype=tf.float32, name='input_1'), name='input_1', description=\"created by layer 'input_1'\")\n",
      "KerasTensor(type_spec=TensorSpec(shape=(None, 1, 1), dtype=tf.float32, name=None), name='tf.math.reduce_sum_1/Sum:0', description=\"created by layer 'tf.math.reduce_sum_1'\")\n",
      "first channel\n",
      "(None, 7749, 6)\n",
      "laplacian\n",
      "t shape b4 pool\n",
      "(None, 7749, 32)\n",
      "t shape after pool\n",
      "(None, 2140, 32)\n",
      "laplacian\n",
      "t shape b4 pool\n",
      "(None, 2140, 64)\n",
      "t shape after pool\n",
      "(None, 589, 64)\n",
      "laplacian\n",
      "t shape b4 pool\n",
      "(None, 589, 128)\n",
      "t shape after pool\n",
      "(None, 163, 128)\n",
      "laplacian\n",
      "t shape b4 pool\n",
      "(None, 163, 256)\n",
      "t shape after pool\n",
      "(None, 50, 256)\n",
      "laplacian\n",
      "t shape b4 pool\n",
      "(None, 50, 256)\n",
      "t shape after pool\n",
      "(None, 14, 256)\n",
      "laplacian\n",
      "t shape b4 pool\n",
      "(None, 14, 256)\n",
      "t shape after pool\n",
      "(None, 4, 256)\n",
      "laplacian\n",
      "t shape b4 pool\n",
      "(None, 4, 256)\n",
      "t shape after pool\n",
      "(None, 1, 256)\n",
      "tshape\n",
      "(None, 6, 6)\n",
      "The resolution will be successively reduced from nside=128 to nside=1 during a forward pass.\n",
      "(None, 7749, 6)\n",
      "ff_mean\n",
      "(None, 3, 6)\n",
      "Model: \"model\"\n",
      "__________________________________________________________________________________________________\n",
      "Layer (type)                    Output Shape         Param #     Connected to                     \n",
      "==================================================================================================\n",
      "input_1 (InputLayer)            [(None, 7749, 6)]    0                                            \n",
      "__________________________________________________________________________________________________\n",
      "tf.math.reduce_sum (TFOpLambda) (None, 7749, 1)      0           input_1[0][0]                    \n",
      "__________________________________________________________________________________________________\n",
      "tf.math.reduce_sum_1 (TFOpLambd (None, 1, 1)         0           tf.math.reduce_sum[0][0]         \n",
      "__________________________________________________________________________________________________\n",
      "tf.math.truediv (TFOpLambda)    (None, 7749, 6)      0           input_1[0][0]                    \n",
      "                                                                 tf.math.reduce_sum_1[0][0]       \n",
      "__________________________________________________________________________________________________\n",
      "chebyshev (Chebyshev)           (None, 7749, 32)     1056        tf.math.truediv[0][0]            \n",
      "__________________________________________________________________________________________________\n",
      "healpy_pool_with_holes (HealpyP (None, 2140, 32)     0           chebyshev[0][0]                  \n",
      "__________________________________________________________________________________________________\n",
      "chebyshev_1 (Chebyshev)         (None, 2140, 64)     10432       healpy_pool_with_holes[0][0]     \n",
      "__________________________________________________________________________________________________\n",
      "healpy_pool_with_holes_1 (Healp (None, 589, 64)      0           chebyshev_1[0][0]                \n",
      "__________________________________________________________________________________________________\n",
      "chebyshev_2 (Chebyshev)         (None, 589, 128)     41344       healpy_pool_with_holes_1[0][0]   \n",
      "__________________________________________________________________________________________________\n",
      "healpy_pool_with_holes_2 (Healp (None, 163, 128)     0           chebyshev_2[0][0]                \n",
      "__________________________________________________________________________________________________\n",
      "chebyshev_3 (Chebyshev)         (None, 163, 256)     164608      healpy_pool_with_holes_2[0][0]   \n",
      "__________________________________________________________________________________________________\n",
      "healpy_pool_with_holes_3 (Healp (None, 50, 256)      0           chebyshev_3[0][0]                \n",
      "__________________________________________________________________________________________________\n",
      "chebyshev_4 (Chebyshev)         (None, 50, 256)      328448      healpy_pool_with_holes_3[0][0]   \n",
      "__________________________________________________________________________________________________\n",
      "healpy_pool_with_holes_4 (Healp (None, 14, 256)      0           chebyshev_4[0][0]                \n",
      "__________________________________________________________________________________________________\n",
      "chebyshev_5 (Chebyshev)         (None, 14, 256)      328448      healpy_pool_with_holes_4[0][0]   \n",
      "__________________________________________________________________________________________________\n",
      "healpy_pool_with_holes_5 (Healp (None, 4, 256)       0           chebyshev_5[0][0]                \n",
      "__________________________________________________________________________________________________\n",
      "chebyshev_6 (Chebyshev)         (None, 4, 256)       328448      healpy_pool_with_holes_5[0][0]   \n",
      "__________________________________________________________________________________________________\n",
      "tf.compat.v1.squeeze (TFOpLambd (None, 1)            0           tf.math.reduce_sum_1[0][0]       \n",
      "__________________________________________________________________________________________________\n",
      "healpy_pool_with_holes_6 (Healp (None, 1, 256)       0           chebyshev_6[0][0]                \n",
      "__________________________________________________________________________________________________\n",
      "tf.math.log (TFOpLambda)        (None, 1)            0           tf.compat.v1.squeeze[0][0]       \n",
      "__________________________________________________________________________________________________\n",
      "tf.math.reduce_mean (TFOpLambda (None, 256)          0           healpy_pool_with_holes_6[0][0]   \n",
      "__________________________________________________________________________________________________\n",
      "tf.math.truediv_1 (TFOpLambda)  (None, 1)            0           tf.math.log[0][0]                \n",
      "__________________________________________________________________________________________________\n",
      "tf.concat (TFOpLambda)          (None, 257)          0           tf.math.reduce_mean[0][0]        \n",
      "                                                                 tf.math.truediv_1[0][0]          \n",
      "__________________________________________________________________________________________________\n",
      "fully_connected_block_1 (FullyC (None, 2048)         528384      tf.concat[0][0]                  \n",
      "__________________________________________________________________________________________________\n",
      "fully_connected_block_3 (FullyC (None, 512)          1049088     fully_connected_block_1[0][0]    \n",
      "__________________________________________________________________________________________________\n",
      "dense (Dense)                   (None, 36)           18432       fully_connected_block_3[0][0]    \n",
      "__________________________________________________________________________________________________\n",
      "reshape (Reshape)               (None, 6, 6)         0           dense[0][0]                      \n",
      "__________________________________________________________________________________________________\n",
      "final_layer (FinalLayer)        {'ff_mean': (None, 3 0           reshape[0][0]                    \n",
      "==================================================================================================\n",
      "Total params: 2,798,688\n",
      "Trainable params: 2,796,192\n",
      "Non-trainable params: 2,496\n",
      "__________________________________________________________________________________________________\n",
      "('You must install pydot (`pip install pydot`) and install graphviz (see instructions at https://graphviz.gitlab.io/download/) ', 'for plot_model/model_to_dot to work.')\n"
     ]
    }
   ],
   "source": [
    "gce.build_nn()"
   ],
   "metadata": {
    "collapsed": false,
    "pycharm": {
     "name": "#%%\n"
    }
   }
  },
  {
   "cell_type": "markdown",
   "source": [
    "*NOTE*: Once the neural network has been trained, **loading** is as easy as ```gce.load_nn()```."
   ],
   "metadata": {
    "collapsed": false
   }
  },
  {
   "cell_type": "code",
   "execution_count": 19,
   "outputs": [],
   "source": [
    "#gce.load_nn()"
   ],
   "metadata": {
    "collapsed": false,
    "pycharm": {
     "name": "#%%\n"
    }
   }
  },
  {
   "cell_type": "markdown",
   "source": [
    "    Let's **train** our neural network to predict\n",
    "1. the **flux fractions** of the different templates (using a negative maximum log-likelihood loss function), and \n",
    "2. the **SCD histograms** of the GCE and isotropic point source populations (using the *Earth Mover's pinball loss*, see [arXiv:2106.02051](https://arxiv.org/abs/2106.02051))."
   ],
   "metadata": {
    "collapsed": false
   }
  },
  {
   "cell_type": "code",
   "execution_count": 20,
   "outputs": [
    {
     "name": "stdout",
     "output_type": "stream",
     "text": [
      "Training flux fractions from scratch.\n",
      "19 tensor(s) will be trained.\n",
      "('You must install pydot (`pip install pydot`) and install graphviz (see instructions at https://graphviz.gitlab.io/download/) ', 'for plot_model/model_to_dot to work.')\n",
      "\n",
      "=== STARTING TRAINING ===\n"
     ]
    },
    {
     "name": "stderr",
     "output_type": "stream",
     "text": [
      "  0%|          | 0/2500 [00:00<?, ?it/s]"
     ]
    },
    {
     "name": "stdout",
     "output_type": "stream",
     "text": [
      "Validation: End of epoch!\n",
      "Validation: End of epoch!\n"
     ]
    },
    {
     "name": "stderr",
     "output_type": "stream",
     "text": [
      " 10%|█         | 250/2500 [03:26<26:31,  1.41it/s, train_loss=-25.2]"
     ]
    },
    {
     "name": "stdout",
     "output_type": "stream",
     "text": [
      "Validation: End of epoch!\n"
     ]
    },
    {
     "name": "stderr",
     "output_type": "stream",
     "text": [
      " 11%|█▏        | 287/2500 [03:54<26:55,  1.37it/s, train_loss=-25.3]"
     ]
    },
    {
     "name": "stdout",
     "output_type": "stream",
     "text": [
      "Training: End of epoch!\n"
     ]
    },
    {
     "name": "stderr",
     "output_type": "stream",
     "text": [
      " 23%|██▎       | 587/2500 [07:40<23:51,  1.34it/s, train_loss=-28.1]"
     ]
    },
    {
     "name": "stdout",
     "output_type": "stream",
     "text": [
      "Training: End of epoch!\n"
     ]
    },
    {
     "name": "stderr",
     "output_type": "stream",
     "text": [
      " 24%|██▍       | 600/2500 [07:49<24:36,  1.29it/s, train_loss=-30.6]"
     ]
    },
    {
     "name": "stdout",
     "output_type": "stream",
     "text": [
      "Validation: End of epoch!\n"
     ]
    },
    {
     "name": "stderr",
     "output_type": "stream",
     "text": [
      " 35%|███▌      | 887/2500 [11:23<18:50,  1.43it/s, train_loss=-29.9]"
     ]
    },
    {
     "name": "stdout",
     "output_type": "stream",
     "text": [
      "Training: End of epoch!\n"
     ]
    },
    {
     "name": "stderr",
     "output_type": "stream",
     "text": [
      " 36%|███▌      | 900/2500 [11:32<18:13,  1.46it/s, train_loss=-33]  "
     ]
    },
    {
     "name": "stdout",
     "output_type": "stream",
     "text": [
      "Validation: End of epoch!\n"
     ]
    },
    {
     "name": "stderr",
     "output_type": "stream",
     "text": [
      " 47%|████▋     | 1187/2500 [14:51<14:25,  1.52it/s, train_loss=-30]  "
     ]
    },
    {
     "name": "stdout",
     "output_type": "stream",
     "text": [
      "Training: End of epoch!\n"
     ]
    },
    {
     "name": "stderr",
     "output_type": "stream",
     "text": [
      " 48%|████▊     | 1200/2500 [15:00<15:05,  1.43it/s, train_loss=-33.8]"
     ]
    },
    {
     "name": "stdout",
     "output_type": "stream",
     "text": [
      "Validation: End of epoch!\n"
     ]
    },
    {
     "name": "stderr",
     "output_type": "stream",
     "text": [
      " 59%|█████▉    | 1487/2500 [18:32<13:26,  1.26it/s, train_loss=-30.5]"
     ]
    },
    {
     "name": "stdout",
     "output_type": "stream",
     "text": [
      "Training: End of epoch!\n"
     ]
    },
    {
     "name": "stderr",
     "output_type": "stream",
     "text": [
      " 60%|██████    | 1500/2500 [18:41<11:37,  1.43it/s, train_loss=-33.6]"
     ]
    },
    {
     "name": "stdout",
     "output_type": "stream",
     "text": [
      "Validation: End of epoch!\n"
     ]
    },
    {
     "name": "stderr",
     "output_type": "stream",
     "text": [
      " 71%|███████▏  | 1787/2500 [22:13<08:29,  1.40it/s, train_loss=-30.7]"
     ]
    },
    {
     "name": "stdout",
     "output_type": "stream",
     "text": [
      "Training: End of epoch!\n"
     ]
    },
    {
     "name": "stderr",
     "output_type": "stream",
     "text": [
      " 74%|███████▍  | 1850/2500 [23:00<07:41,  1.41it/s, train_loss=-37.2]"
     ]
    },
    {
     "name": "stdout",
     "output_type": "stream",
     "text": [
      "Validation: End of epoch!\n"
     ]
    },
    {
     "name": "stderr",
     "output_type": "stream",
     "text": [
      " 83%|████████▎ | 2087/2500 [25:57<04:51,  1.42it/s, train_loss=-31.5]"
     ]
    },
    {
     "name": "stdout",
     "output_type": "stream",
     "text": [
      "Training: End of epoch!\n"
     ]
    },
    {
     "name": "stderr",
     "output_type": "stream",
     "text": [
      " 86%|████████▌ | 2150/2500 [26:43<04:12,  1.39it/s, train_loss=-37.7]"
     ]
    },
    {
     "name": "stdout",
     "output_type": "stream",
     "text": [
      "Validation: End of epoch!\n"
     ]
    },
    {
     "name": "stderr",
     "output_type": "stream",
     "text": [
      " 95%|█████████▌| 2387/2500 [29:46<01:24,  1.34it/s, train_loss=-32]  "
     ]
    },
    {
     "name": "stdout",
     "output_type": "stream",
     "text": [
      "Training: End of epoch!\n"
     ]
    },
    {
     "name": "stderr",
     "output_type": "stream",
     "text": [
      " 98%|█████████▊| 2450/2500 [30:33<00:35,  1.39it/s, train_loss=-37.9]"
     ]
    },
    {
     "name": "stdout",
     "output_type": "stream",
     "text": [
      "Validation: End of epoch!\n"
     ]
    },
    {
     "name": "stderr",
     "output_type": "stream",
     "text": [
      "100%|██████████| 2500/2500 [31:10<00:00,  1.34it/s, train_loss=-32.9]"
     ]
    },
    {
     "name": "stdout",
     "output_type": "stream",
     "text": [
      "=== TRAINING FINISHED ===\n",
      "\n"
     ]
    },
    {
     "name": "stderr",
     "output_type": "stream",
     "text": [
      "\n"
     ]
    }
   ],
   "source": [
    "gce.train_nn(\"flux_fractions\")"
   ],
   "metadata": {
    "collapsed": false,
    "pycharm": {
     "name": "#%%\n"
    }
   }
  },
  {
   "cell_type": "code",
   "execution_count": 20,
   "outputs": [],
   "source": [],
   "metadata": {
    "collapsed": false,
    "pycharm": {
     "name": "#%%\n"
    }
   }
  },
  {
   "cell_type": "code",
   "execution_count": 21,
   "outputs": [],
   "source": [
    "#gce.train_nn(\"histograms\")"
   ],
   "metadata": {
    "collapsed": false,
    "pycharm": {
     "name": "#%%\n"
    }
   }
  },
  {
   "cell_type": "markdown",
   "metadata": {
    "id": "UBibNbv-U6GA"
   },
   "source": [
    "Finally, let's **evaluate** the performance of our neural network on simulated test data."
   ]
  },
  {
   "cell_type": "code",
   "metadata": {
    "id": "r7wRxSZ_VFU_"
   },
   "source": [
    "n_samples = 20\n",
    "test_samples = gce.datasets[\"test\"].get_samples(n_samples)\n",
    "test_data, test_ffs, test_hists = test_samples[\"data\"], test_samples[\"label\"][0], test_samples[\"label\"][1]\n",
    "tau = np.arange(5, 100, 5) * 0.01  # quantile levels for SCD histograms, from 5% to 95% in steps of 5%\n",
    "pred = gce.predict(test_data, tau=tau, multiple_taus=True)  # get the NN predictions"
   ],
   "execution_count": 22,
   "outputs": [
    {
     "ename": "ValueError",
     "evalue": "Layer model expects 1 input(s), but it received 2 input tensors. Inputs received: [<tf.Tensor: shape=(20, 7749, 6), dtype=float32, numpy=\narray([[[0.        , 0.        , 0.        , 0.        , 0.        ,\n         0.98244375],\n        [0.        , 0.        , 0.        , 0.        , 0.        ,\n         3.9845853 ],\n        [0.        , 0.        , 0.        , 0.        , 0.        ,\n         0.        ],\n        ...,\n        [0.        , 0.        , 0.        , 0.        , 0.        ,\n         2.1092653 ],\n        [0.        , 0.        , 0.        , 0.        , 0.        ,\n         0.        ],\n        [0.        , 0.        , 0.        , 0.        , 0.        ,\n         2.1293998 ]],\n\n       [[0.        , 0.        , 0.        , 0.        , 0.        ,\n         1.9648875 ],\n        [0.        , 0.        , 0.        , 0.        , 0.        ,\n         0.9961463 ],\n        [0.        , 0.        , 0.        , 0.        , 0.        ,\n         0.99250174],\n        ...,\n        [0.        , 0.        , 0.        , 0.        , 0.        ,\n         2.1092653 ],\n        [0.        , 0.        , 0.        , 0.        , 0.        ,\n         1.051352  ],\n        [0.        , 0.        , 0.        , 0.        , 0.        ,\n         1.0646999 ]],\n\n       [[0.        , 0.        , 0.        , 0.98244375, 0.        ,\n         0.98244375],\n        [0.        , 0.        , 0.        , 0.        , 0.        ,\n         0.9961463 ],\n        [0.        , 0.        , 0.        , 0.        , 0.        ,\n         3.970007  ],\n        ...,\n        [0.        , 0.        , 0.        , 0.        , 0.        ,\n         2.1092653 ],\n        [0.        , 0.        , 0.        , 0.        , 0.        ,\n         0.        ],\n        [0.        , 0.        , 0.        , 0.        , 0.        ,\n         2.1293998 ]],\n\n       ...,\n\n       [[0.        , 0.        , 0.        , 0.        , 0.        ,\n         0.98244375],\n        [0.        , 0.        , 0.        , 0.        , 0.        ,\n         0.9961463 ],\n        [0.        , 0.        , 0.        , 0.        , 0.        ,\n         3.970007  ],\n        ...,\n        [0.        , 0.        , 0.        , 0.        , 0.        ,\n         2.1092653 ],\n        [1.051352  , 0.        , 0.        , 0.        , 1.051352  ,\n         2.102704  ],\n        [0.        , 0.        , 0.        , 0.        , 1.0646999 ,\n         2.1293998 ]],\n\n       [[0.        , 0.        , 0.        , 0.        , 0.        ,\n         0.        ],\n        [0.        , 0.        , 0.        , 0.        , 0.        ,\n         0.        ],\n        [0.        , 0.        , 0.        , 0.        , 0.        ,\n         0.        ],\n        ...,\n        [0.        , 0.        , 0.        , 0.        , 0.        ,\n         0.        ],\n        [0.        , 0.        , 0.        , 0.        , 0.        ,\n         0.        ],\n        [0.        , 0.        , 0.        , 0.        , 0.        ,\n         0.        ]],\n\n       [[0.        , 0.        , 0.        , 0.        , 0.        ,\n         0.        ],\n        [0.        , 0.        , 0.        , 0.        , 0.        ,\n         0.        ],\n        [0.        , 0.        , 0.        , 0.        , 0.        ,\n         0.        ],\n        ...,\n        [0.        , 0.        , 0.        , 0.        , 0.        ,\n         0.        ],\n        [0.        , 0.        , 0.        , 0.        , 0.        ,\n         1.051352  ],\n        [0.        , 0.        , 0.        , 0.        , 0.        ,\n         0.        ]]], dtype=float32)>, <tf.Tensor: shape=(20, 1), dtype=float64, numpy=\narray([[0.05],\n       [0.05],\n       [0.05],\n       [0.05],\n       [0.05],\n       [0.05],\n       [0.05],\n       [0.05],\n       [0.05],\n       [0.05],\n       [0.05],\n       [0.05],\n       [0.05],\n       [0.05],\n       [0.05],\n       [0.05],\n       [0.05],\n       [0.05],\n       [0.05],\n       [0.05]])>]",
     "output_type": "error",
     "traceback": [
      "\u001B[0;31m---------------------------------------------------------------------------\u001B[0m",
      "\u001B[0;31mValueError\u001B[0m                                Traceback (most recent call last)",
      "\u001B[0;32m/tmp/ipykernel_7989/3316642112.py\u001B[0m in \u001B[0;36m<module>\u001B[0;34m\u001B[0m\n\u001B[1;32m      3\u001B[0m \u001B[0mtest_data\u001B[0m\u001B[0;34m,\u001B[0m \u001B[0mtest_ffs\u001B[0m\u001B[0;34m,\u001B[0m \u001B[0mtest_hists\u001B[0m \u001B[0;34m=\u001B[0m \u001B[0mtest_samples\u001B[0m\u001B[0;34m[\u001B[0m\u001B[0;34m\"data\"\u001B[0m\u001B[0;34m]\u001B[0m\u001B[0;34m,\u001B[0m \u001B[0mtest_samples\u001B[0m\u001B[0;34m[\u001B[0m\u001B[0;34m\"label\"\u001B[0m\u001B[0;34m]\u001B[0m\u001B[0;34m[\u001B[0m\u001B[0;36m0\u001B[0m\u001B[0;34m]\u001B[0m\u001B[0;34m,\u001B[0m \u001B[0mtest_samples\u001B[0m\u001B[0;34m[\u001B[0m\u001B[0;34m\"label\"\u001B[0m\u001B[0;34m]\u001B[0m\u001B[0;34m[\u001B[0m\u001B[0;36m1\u001B[0m\u001B[0;34m]\u001B[0m\u001B[0;34m\u001B[0m\u001B[0;34m\u001B[0m\u001B[0m\n\u001B[1;32m      4\u001B[0m \u001B[0mtau\u001B[0m \u001B[0;34m=\u001B[0m \u001B[0mnp\u001B[0m\u001B[0;34m.\u001B[0m\u001B[0marange\u001B[0m\u001B[0;34m(\u001B[0m\u001B[0;36m5\u001B[0m\u001B[0;34m,\u001B[0m \u001B[0;36m100\u001B[0m\u001B[0;34m,\u001B[0m \u001B[0;36m5\u001B[0m\u001B[0;34m)\u001B[0m \u001B[0;34m*\u001B[0m \u001B[0;36m0.01\u001B[0m  \u001B[0;31m# quantile levels for SCD histograms, from 5% to 95% in steps of 5%\u001B[0m\u001B[0;34m\u001B[0m\u001B[0;34m\u001B[0m\u001B[0m\n\u001B[0;32m----> 5\u001B[0;31m \u001B[0mpred\u001B[0m \u001B[0;34m=\u001B[0m \u001B[0mgce\u001B[0m\u001B[0;34m.\u001B[0m\u001B[0mpredict\u001B[0m\u001B[0;34m(\u001B[0m\u001B[0mtest_data\u001B[0m\u001B[0;34m,\u001B[0m \u001B[0mtau\u001B[0m\u001B[0;34m=\u001B[0m\u001B[0mtau\u001B[0m\u001B[0;34m,\u001B[0m \u001B[0mmultiple_taus\u001B[0m\u001B[0;34m=\u001B[0m\u001B[0;32mTrue\u001B[0m\u001B[0;34m)\u001B[0m  \u001B[0;31m# get the NN predictions\u001B[0m\u001B[0;34m\u001B[0m\u001B[0;34m\u001B[0m\u001B[0m\n\u001B[0m",
      "\u001B[0;32m~/GCE_NN/GCE/gce.py\u001B[0m in \u001B[0;36mpredict\u001B[0;34m(self, data, tau, multiple_taus, compress, remove_exp, training)\u001B[0m\n\u001B[1;32m    898\u001B[0m             \u001B[0;32mfor\u001B[0m \u001B[0mi_ql\u001B[0m\u001B[0;34m,\u001B[0m \u001B[0mql\u001B[0m \u001B[0;32min\u001B[0m \u001B[0menumerate\u001B[0m\u001B[0;34m(\u001B[0m\u001B[0mtau\u001B[0m\u001B[0;34m)\u001B[0m\u001B[0;34m:\u001B[0m\u001B[0;34m\u001B[0m\u001B[0;34m\u001B[0m\u001B[0m\n\u001B[1;32m    899\u001B[0m                 \u001B[0mthis_ql\u001B[0m \u001B[0;34m=\u001B[0m \u001B[0mql\u001B[0m \u001B[0;34m*\u001B[0m \u001B[0mnp\u001B[0m\u001B[0;34m.\u001B[0m\u001B[0mones\u001B[0m\u001B[0;34m(\u001B[0m\u001B[0;34m(\u001B[0m\u001B[0mdata\u001B[0m\u001B[0;34m.\u001B[0m\u001B[0mshape\u001B[0m\u001B[0;34m[\u001B[0m\u001B[0;36m0\u001B[0m\u001B[0;34m]\u001B[0m\u001B[0;34m,\u001B[0m \u001B[0;36m1\u001B[0m\u001B[0;34m)\u001B[0m\u001B[0;34m)\u001B[0m\u001B[0;34m\u001B[0m\u001B[0;34m\u001B[0m\u001B[0m\n\u001B[0;32m--> 900\u001B[0;31m                 \u001B[0mthis_outdict\u001B[0m \u001B[0;34m=\u001B[0m \u001B[0mself\u001B[0m\u001B[0;34m.\u001B[0m\u001B[0mnn\u001B[0m\u001B[0;34m(\u001B[0m\u001B[0;34m[\u001B[0m\u001B[0mdata\u001B[0m\u001B[0;34m,\u001B[0m \u001B[0mthis_ql\u001B[0m\u001B[0;34m]\u001B[0m\u001B[0;34m,\u001B[0m \u001B[0mtraining\u001B[0m\u001B[0;34m=\u001B[0m\u001B[0mtraining\u001B[0m\u001B[0;34m)\u001B[0m\u001B[0;34m\u001B[0m\u001B[0;34m\u001B[0m\u001B[0m\n\u001B[0m\u001B[1;32m    901\u001B[0m \u001B[0;34m\u001B[0m\u001B[0m\n\u001B[1;32m    902\u001B[0m                 \u001B[0;32mfor\u001B[0m \u001B[0mk\u001B[0m \u001B[0;32min\u001B[0m \u001B[0mthis_outdict\u001B[0m\u001B[0;34m.\u001B[0m\u001B[0mkeys\u001B[0m\u001B[0;34m(\u001B[0m\u001B[0;34m)\u001B[0m\u001B[0;34m:\u001B[0m\u001B[0;34m\u001B[0m\u001B[0;34m\u001B[0m\u001B[0m\n",
      "\u001B[0;32m~/GCE_NN/venv/lib/python3.8/site-packages/tensorflow/python/keras/engine/base_layer.py\u001B[0m in \u001B[0;36m__call__\u001B[0;34m(self, *args, **kwargs)\u001B[0m\n\u001B[1;32m   1011\u001B[0m         training=training_mode):\n\u001B[1;32m   1012\u001B[0m \u001B[0;34m\u001B[0m\u001B[0m\n\u001B[0;32m-> 1013\u001B[0;31m       \u001B[0minput_spec\u001B[0m\u001B[0;34m.\u001B[0m\u001B[0massert_input_compatibility\u001B[0m\u001B[0;34m(\u001B[0m\u001B[0mself\u001B[0m\u001B[0;34m.\u001B[0m\u001B[0minput_spec\u001B[0m\u001B[0;34m,\u001B[0m \u001B[0minputs\u001B[0m\u001B[0;34m,\u001B[0m \u001B[0mself\u001B[0m\u001B[0;34m.\u001B[0m\u001B[0mname\u001B[0m\u001B[0;34m)\u001B[0m\u001B[0;34m\u001B[0m\u001B[0;34m\u001B[0m\u001B[0m\n\u001B[0m\u001B[1;32m   1014\u001B[0m       \u001B[0;32mif\u001B[0m \u001B[0meager\u001B[0m\u001B[0;34m:\u001B[0m\u001B[0;34m\u001B[0m\u001B[0;34m\u001B[0m\u001B[0m\n\u001B[1;32m   1015\u001B[0m         \u001B[0mcall_fn\u001B[0m \u001B[0;34m=\u001B[0m \u001B[0mself\u001B[0m\u001B[0;34m.\u001B[0m\u001B[0mcall\u001B[0m\u001B[0;34m\u001B[0m\u001B[0;34m\u001B[0m\u001B[0m\n",
      "\u001B[0;32m~/GCE_NN/venv/lib/python3.8/site-packages/tensorflow/python/keras/engine/input_spec.py\u001B[0m in \u001B[0;36massert_input_compatibility\u001B[0;34m(input_spec, inputs, layer_name)\u001B[0m\n\u001B[1;32m    198\u001B[0m \u001B[0;34m\u001B[0m\u001B[0m\n\u001B[1;32m    199\u001B[0m   \u001B[0;32mif\u001B[0m \u001B[0mlen\u001B[0m\u001B[0;34m(\u001B[0m\u001B[0minputs\u001B[0m\u001B[0;34m)\u001B[0m \u001B[0;34m!=\u001B[0m \u001B[0mlen\u001B[0m\u001B[0;34m(\u001B[0m\u001B[0minput_spec\u001B[0m\u001B[0;34m)\u001B[0m\u001B[0;34m:\u001B[0m\u001B[0;34m\u001B[0m\u001B[0;34m\u001B[0m\u001B[0m\n\u001B[0;32m--> 200\u001B[0;31m     raise ValueError('Layer ' + layer_name + ' expects ' +\n\u001B[0m\u001B[1;32m    201\u001B[0m                      \u001B[0mstr\u001B[0m\u001B[0;34m(\u001B[0m\u001B[0mlen\u001B[0m\u001B[0;34m(\u001B[0m\u001B[0minput_spec\u001B[0m\u001B[0;34m)\u001B[0m\u001B[0;34m)\u001B[0m \u001B[0;34m+\u001B[0m \u001B[0;34m' input(s), '\u001B[0m\u001B[0;34m\u001B[0m\u001B[0;34m\u001B[0m\u001B[0m\n\u001B[1;32m    202\u001B[0m                      \u001B[0;34m'but it received '\u001B[0m \u001B[0;34m+\u001B[0m \u001B[0mstr\u001B[0m\u001B[0;34m(\u001B[0m\u001B[0mlen\u001B[0m\u001B[0;34m(\u001B[0m\u001B[0minputs\u001B[0m\u001B[0;34m)\u001B[0m\u001B[0;34m)\u001B[0m \u001B[0;34m+\u001B[0m\u001B[0;34m\u001B[0m\u001B[0;34m\u001B[0m\u001B[0m\n",
      "\u001B[0;31mValueError\u001B[0m: Layer model expects 1 input(s), but it received 2 input tensors. Inputs received: [<tf.Tensor: shape=(20, 7749, 6), dtype=float32, numpy=\narray([[[0.        , 0.        , 0.        , 0.        , 0.        ,\n         0.98244375],\n        [0.        , 0.        , 0.        , 0.        , 0.        ,\n         3.9845853 ],\n        [0.        , 0.        , 0.        , 0.        , 0.        ,\n         0.        ],\n        ...,\n        [0.        , 0.        , 0.        , 0.        , 0.        ,\n         2.1092653 ],\n        [0.        , 0.        , 0.        , 0.        , 0.        ,\n         0.        ],\n        [0.        , 0.        , 0.        , 0.        , 0.        ,\n         2.1293998 ]],\n\n       [[0.        , 0.        , 0.        , 0.        , 0.        ,\n         1.9648875 ],\n        [0.        , 0.        , 0.        , 0.        , 0.        ,\n         0.9961463 ],\n        [0.        , 0.        , 0.        , 0.        , 0.        ,\n         0.99250174],\n        ...,\n        [0.        , 0.        , 0.        , 0.        , 0.        ,\n         2.1092653 ],\n        [0.        , 0.        , 0.        , 0.        , 0.        ,\n         1.051352  ],\n        [0.        , 0.        , 0.        , 0.        , 0.        ,\n         1.0646999 ]],\n\n       [[0.        , 0.        , 0.        , 0.98244375, 0.        ,\n         0.98244375],\n        [0.        , 0.        , 0.        , 0.        , 0.        ,\n         0.9961463 ],\n        [0.        , 0.        , 0.        , 0.        , 0.        ,\n         3.970007  ],\n        ...,\n        [0.        , 0.        , 0.        , 0.        , 0.        ,\n         2.1092653 ],\n        [0.        , 0.        , 0.        , 0.        , 0.        ,\n         0.        ],\n        [0.        , 0.        , 0.        , 0.        , 0.        ,\n         2.1293998 ]],\n\n       ...,\n\n       [[0.        , 0.        , 0.        , 0.        , 0.        ,\n         0.98244375],\n        [0.        , 0.        , 0.        , 0.        , 0.        ,\n         0.9961463 ],\n        [0.        , 0.        , 0.        , 0.        , 0.        ,\n         3.970007  ],\n        ...,\n        [0.        , 0.        , 0.        , 0.        , 0.        ,\n         2.1092653 ],\n        [1.051352  , 0.        , 0.        , 0.        , 1.051352  ,\n         2.102704  ],\n        [0.        , 0.        , 0.        , 0.        , 1.0646999 ,\n         2.1293998 ]],\n\n       [[0.        , 0.        , 0.        , 0.        , 0.        ,\n         0.        ],\n        [0.        , 0.        , 0.        , 0.        , 0.        ,\n         0.        ],\n        [0.        , 0.        , 0.        , 0.        , 0.        ,\n         0.        ],\n        ...,\n        [0.        , 0.        , 0.        , 0.        , 0.        ,\n         0.        ],\n        [0.        , 0.        , 0.        , 0.        , 0.        ,\n         0.        ],\n        [0.        , 0.        , 0.        , 0.        , 0.        ,\n         0.        ]],\n\n       [[0.        , 0.        , 0.        , 0.        , 0.        ,\n         0.        ],\n        [0.        , 0.        , 0.        , 0.        , 0.        ,\n         0.        ],\n        [0.        , 0.        , 0.        , 0.        , 0.        ,\n         0.        ],\n        ...,\n        [0.        , 0.        , 0.        , 0.        , 0.        ,\n         0.        ],\n        [0.        , 0.        , 0.        , 0.        , 0.        ,\n         1.051352  ],\n        [0.        , 0.        , 0.        , 0.        , 0.        ,\n         0.        ]]], dtype=float32)>, <tf.Tensor: shape=(20, 1), dtype=float64, numpy=\narray([[0.05],\n       [0.05],\n       [0.05],\n       [0.05],\n       [0.05],\n       [0.05],\n       [0.05],\n       [0.05],\n       [0.05],\n       [0.05],\n       [0.05],\n       [0.05],\n       [0.05],\n       [0.05],\n       [0.05],\n       [0.05],\n       [0.05],\n       [0.05],\n       [0.05],\n       [0.05]])>]"
     ]
    }
   ]
  },
  {
   "cell_type": "code",
   "execution_count": 23,
   "outputs": [
    {
     "name": "stdout",
     "output_type": "stream",
     "text": [
      "('You must install pydot (`pip install pydot`) and install graphviz (see instructions at https://graphviz.gitlab.io/download/) ', 'for plot_model/model_to_dot to work.')\n"
     ]
    },
    {
     "ename": "AttributeError",
     "evalue": "'Analysis' object has no attribute 'plot_flux_fractions_Ebin'",
     "output_type": "error",
     "traceback": [
      "\u001B[0;31m---------------------------------------------------------------------------\u001B[0m",
      "\u001B[0;31mAttributeError\u001B[0m                            Traceback (most recent call last)",
      "\u001B[0;32m/tmp/ipykernel_7989/2579596123.py\u001B[0m in \u001B[0;36m<module>\u001B[0;34m\u001B[0m\n\u001B[1;32m      1\u001B[0m \u001B[0;31m# Make some plots (will be saved in the models folder)\u001B[0m\u001B[0;34m\u001B[0m\u001B[0;34m\u001B[0m\u001B[0;34m\u001B[0m\u001B[0m\n\u001B[1;32m      2\u001B[0m \u001B[0mgce\u001B[0m\u001B[0;34m.\u001B[0m\u001B[0mplot_nn_architecture\u001B[0m\u001B[0;34m(\u001B[0m\u001B[0;34m)\u001B[0m\u001B[0;34m\u001B[0m\u001B[0;34m\u001B[0m\u001B[0m\n\u001B[0;32m----> 3\u001B[0;31m \u001B[0mgce\u001B[0m\u001B[0;34m.\u001B[0m\u001B[0mplot_flux_fractions_Ebin\u001B[0m\u001B[0;34m(\u001B[0m\u001B[0mtest_ffs\u001B[0m\u001B[0;34m,\u001B[0m \u001B[0mpred\u001B[0m\u001B[0;34m)\u001B[0m\u001B[0;34m\u001B[0m\u001B[0;34m\u001B[0m\u001B[0m\n\u001B[0m\u001B[1;32m      4\u001B[0m \u001B[0mgce\u001B[0m\u001B[0;34m.\u001B[0m\u001B[0mplot_flux_fractions_total\u001B[0m\u001B[0;34m(\u001B[0m\u001B[0mtest_ffs\u001B[0m\u001B[0;34m,\u001B[0m \u001B[0mpred\u001B[0m\u001B[0;34m)\u001B[0m\u001B[0;34m\u001B[0m\u001B[0;34m\u001B[0m\u001B[0m\n\u001B[1;32m      5\u001B[0m \u001B[0;31m#gce.plot_histograms(test_hists, pred, plot_inds=np.arange(9))\u001B[0m\u001B[0;34m\u001B[0m\u001B[0;34m\u001B[0m\u001B[0;34m\u001B[0m\u001B[0m\n",
      "\u001B[0;31mAttributeError\u001B[0m: 'Analysis' object has no attribute 'plot_flux_fractions_Ebin'"
     ]
    }
   ],
   "source": [
    "# Make some plots (will be saved in the models folder)\n",
    "gce.plot_nn_architecture()\n",
    "gce.plot_flux_fractions_Ebin(test_ffs, pred)\n",
    "gce.plot_flux_fractions_total(test_ffs, pred)\n",
    "#gce.plot_histograms(test_hists, pred, plot_inds=np.arange(9))\n",
    "gce.plot_maps(test_data, decompress=True, plot_inds=np.arange(9))\n",
    "plt.show()"
   ],
   "metadata": {
    "collapsed": false,
    "pycharm": {
     "name": "#%%\n"
    }
   }
  },
  {
   "cell_type": "markdown",
   "metadata": {
    "id": "4BnWAJt1Tf0j",
    "pycharm": {
     "name": "#%% md\n"
    }
   },
   "source": [
    "Clearly, the training dataset is too small and the training was too short to obtain accurate and precise predictions. Still, the neural networks have already learned *something*, and the predictions are roughly in the right ballpark."
   ]
  },
  {
   "cell_type": "code",
   "execution_count": null,
   "outputs": [],
   "source": [],
   "metadata": {
    "collapsed": false,
    "pycharm": {
     "name": "#%%\n"
    }
   }
  }
 ]
}